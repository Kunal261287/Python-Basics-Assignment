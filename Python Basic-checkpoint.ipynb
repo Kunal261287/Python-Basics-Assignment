{
 "cells": [
  {
   "cell_type": "markdown",
   "id": "2d575a82-de3d-49d7-9cf1-ad1b2e4bc64d",
   "metadata": {},
   "source": [
    "1. Explain the key features of python that make it a popular choice for programming.\n",
    "    Ans: Python is very easy to understand and write. It is compatible with various programming paradigms, such as procedual, object-oriented and\n",
    "           functional progrmming. Python has a large and active community of developers, an extensive standard library, and third-party packages\n",
    "           for various domains."
   ]
  },
  {
   "cell_type": "markdown",
   "id": "fcb449a1-c9a0-4717-82bf-784f5b9376e2",
   "metadata": {},
   "source": [
    "2. Describe the role of predefined keywords in Python and provide examples of how they are used in a program.\n",
    "   Ans: Keywords are reserved words in Python that have special meanings and cannot be used as identifiers (Variable names, function names, etc.)\n",
    "           Examples of keywords: If, else, while, class, import etc."
   ]
  },
  {
   "cell_type": "code",
   "execution_count": 16,
   "id": "e80b9d60-72be-4f72-bc7c-704634e33a67",
   "metadata": {},
   "outputs": [
    {
     "name": "stdout",
     "output_type": "stream",
     "text": [
      "The Number is Odd. \n"
     ]
    }
   ],
   "source": [
    "#Example - If, else are 2 predefined keyword used to run program logic and can not be used as variables.\n",
    "number = 11\n",
    "if number % 2 == 0:\n",
    "    print(\"The Number is Even. \")\n",
    "else:\n",
    "    print(\"The Number is Odd. \")"
   ]
  },
  {
   "cell_type": "markdown",
   "id": "d6c53af6-742b-41d8-b89f-c1035d7b6f4f",
   "metadata": {},
   "source": [
    "3. Compare and contrast mutable and immutable objects in Python with examples.\n",
    "   Ans: Mutuable Objects can be changed after creation - list, set etc.\n",
    "       Immutable Objects can not be changed - int, str, tuple."
   ]
  },
  {
   "cell_type": "code",
   "execution_count": 17,
   "id": "da9094fe-bd12-4830-9b34-8ead634aa1df",
   "metadata": {},
   "outputs": [
    {
     "name": "stdout",
     "output_type": "stream",
     "text": [
      "[1, 5, 3]\n"
     ]
    }
   ],
   "source": [
    "#Mutable Example:\n",
    "list = [1, 2, 3]\n",
    "list[1] = 5\n",
    "print(list)"
   ]
  },
  {
   "cell_type": "code",
   "execution_count": 22,
   "id": "39feb1e3-831a-4893-8b4e-3fe43b0a239f",
   "metadata": {},
   "outputs": [
    {
     "name": "stdout",
     "output_type": "stream",
     "text": [
      "Hello\n"
     ]
    }
   ],
   "source": [
    "#Immutable Example:\n",
    "my_str = \"hello\"\n",
    "new_str = \"H\" + my_str[1: ]\n",
    "print(new_str)"
   ]
  },
  {
   "cell_type": "markdown",
   "id": "94bc19b9-731d-4f8f-b03b-85c2e1082c9d",
   "metadata": {},
   "source": [
    "4. Discuss the different types of operators in Python and provide examples of how they are used.\n",
    "   Ans: Operators are special symbols or keywords that are used to carry out specific actions on numbers or variables in Python expressions.\n",
    "   Arithmetic operators (+,-,*,/), comparison operators (==,<,>), logical operators (and, or, not), assignment operators (=, +=, -=) etc."
   ]
  },
  {
   "cell_type": "code",
   "execution_count": 24,
   "id": "f674e308-0f48-4156-8514-da89221c8892",
   "metadata": {},
   "outputs": [
    {
     "name": "stdout",
     "output_type": "stream",
     "text": [
      "14\n"
     ]
    }
   ],
   "source": [
    "#Example of use of operators:\n",
    "a = 3\n",
    "b = 4\n",
    "c = 2\n",
    "print(a*b+c)"
   ]
  },
  {
   "cell_type": "markdown",
   "id": "95793ce3-cadc-4eb4-839d-60161a948afe",
   "metadata": {},
   "source": [
    "5. Explain the concept of type casting in Python with examples.\n",
    "   Ans: type casting also referred to as type conversation.\n",
    "   It is the process to change one data type to another in Python - int(), float(), str() etc."
   ]
  },
  {
   "cell_type": "code",
   "execution_count": 25,
   "id": "1a94d843-0894-417b-b6ed-4801559616fe",
   "metadata": {},
   "outputs": [
    {
     "name": "stdout",
     "output_type": "stream",
     "text": [
      "5\n"
     ]
    }
   ],
   "source": [
    "#Example of type casting: converting float to integer.\n",
    "a = 5.7\n",
    "b = int(a)\n",
    "print(b)\n"
   ]
  },
  {
   "cell_type": "markdown",
   "id": "a13b8008-d5c7-4cd0-93f7-7a492b810950",
   "metadata": {},
   "source": [
    "6. How do conditional statements work in Python? Illustrate with examples.\n",
    "   Ans: conditional statements in Python are used to execute code based on the evalaution of one or more conditions - If, elif (else if)"
   ]
  },
  {
   "cell_type": "code",
   "execution_count": 26,
   "id": "9d3952f6-3bdb-46e6-bb05-e1848c74a6bd",
   "metadata": {},
   "outputs": [
    {
     "name": "stdout",
     "output_type": "stream",
     "text": [
      "The Number is Odd. \n"
     ]
    }
   ],
   "source": [
    "#Using of Conditional Statments: it's executing the condition if number is having remainder 0, it is even.\n",
    "number = 11\n",
    "if number % 2 == 0:\n",
    "    print(\"The Number is Even. \")\n",
    "else:\n",
    "    print(\"The Number is Odd. \")"
   ]
  },
  {
   "cell_type": "markdown",
   "id": "cb56f0c9-ec41-41d6-aeea-667d43eab625",
   "metadata": {},
   "source": [
    "7. Describe the different types of loops in Python and their use cases with examples.\n",
    "   Ans: In Python, loops are employed to repeat a sequence of actions or code until a specific condition is fulfilled.\n",
    "   Python offers two primary types of loops - for loops and while loops.\n",
    "   \"for loops\" are used for iterating over a sequence of elements, while \"while loops\" are used for executing code until a specified condition becomes false."
   ]
  },
  {
   "cell_type": "code",
   "execution_count": 32,
   "id": "54dd7b32-bee8-46b4-a3ba-1dcfc6986ee0",
   "metadata": {},
   "outputs": [
    {
     "name": "stdout",
     "output_type": "stream",
     "text": [
      "p\n",
      "y\n",
      "t\n",
      "h\n",
      "o\n",
      "n\n"
     ]
    }
   ],
   "source": [
    "#Use case of loops: For\n",
    "for char in \"python\":\n",
    "    print(char)"
   ]
  },
  {
   "cell_type": "code",
   "execution_count": 39,
   "id": "1128b52e-32a6-473a-9de6-33778c98d50c",
   "metadata": {},
   "outputs": [
    {
     "name": "stdout",
     "output_type": "stream",
     "text": [
      "Count is:  3\n",
      "Count is:  6\n",
      "Count is:  9\n",
      "Count is:  12\n",
      "Count is:  15\n"
     ]
    }
   ],
   "source": [
    "#Use case of loops: While\n",
    "count = 3\n",
    "while count <= 15:\n",
    "    print(\"Count is: \", count)\n",
    "    count += 3"
   ]
  },
  {
   "cell_type": "code",
   "execution_count": null,
   "id": "267a5b9b-fec9-455b-b126-81cfa8491988",
   "metadata": {},
   "outputs": [],
   "source": []
  }
 ],
 "metadata": {
  "kernelspec": {
   "display_name": "Python 3 (ipykernel)",
   "language": "python",
   "name": "python3"
  },
  "language_info": {
   "codemirror_mode": {
    "name": "ipython",
    "version": 3
   },
   "file_extension": ".py",
   "mimetype": "text/x-python",
   "name": "python",
   "nbconvert_exporter": "python",
   "pygments_lexer": "ipython3",
   "version": "3.13.2"
  }
 },
 "nbformat": 4,
 "nbformat_minor": 5
}
